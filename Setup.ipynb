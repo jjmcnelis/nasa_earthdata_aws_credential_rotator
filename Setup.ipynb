{
 "cells": [
  {
   "cell_type": "code",
   "execution_count": null,
   "id": "da5a390c-01d3-44cc-afa4-2fcd7b29eda7",
   "metadata": {},
   "outputs": [],
   "source": [
    "aws --profile saml-pub s3api head-object --bucket \"podaac-dev-spurs2cft\" --key \"ssp_cft_2017_10_23_01_Scene13_Viento_01.tar.gz\""
   ]
  }
 ],
 "metadata": {
  "kernelspec": {
   "display_name": "Bash",
   "language": "bash",
   "name": "bash"
  },
  "language_info": {
   "codemirror_mode": "shell",
   "file_extension": ".sh",
   "mimetype": "text/x-sh",
   "name": "bash"
  }
 },
 "nbformat": 4,
 "nbformat_minor": 5
}
