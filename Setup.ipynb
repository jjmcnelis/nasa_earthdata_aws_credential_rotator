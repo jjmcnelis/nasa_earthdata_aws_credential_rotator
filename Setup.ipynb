{
 "cells": [
  {
   "cell_type": "markdown",
   "id": "1038c814-a369-46ed-85c7-c27c37c99615",
   "metadata": {},
   "source": [
    "# Setup.ipynb\n",
    "\n",
    "## Setup\n",
    "\n",
    "**Make sure you have a valid `.netrc` file inside the user home directory:**\n",
    "```bash\n",
    "ls ~/.netrc\n",
    "```\n",
    "\n",
    "**Make sure the `awscli` is available:**\n",
    "```bash\n",
    "python -m pip install awscli\n",
    "```\n",
    "\n",
    "**Make sure `~/.local/bin` directory exists and that it's include in the user PATH variable:**\n",
    "```bash\n",
    "mkdir -p ~/.local/bin/ && [[ \":$PATH:\" != *\":$HOME/.local/bin:\"* ]] && PATH=\"$HOME/.local/bin:${PATH}\"\n",
    "```\n",
    "\n",
    "**Download this earthdata credential rotator script to `~/.local/bin/awsedl` and make it executable:**\n",
    "```bash\n",
    "curl -s -o ~/.local/bin/awsedl https://raw.githubusercontent.com/jjmcnelis/nasa_earthdata_aws_credential_rotator/main/awsedl.sh && chmod +x ~/.local/bin/awsedl\n",
    "```\n",
    "\n",
    "**Define an alias to back up and replace your existing AWS credentials file located at `~/.aws/credentials`:**\n",
    "```bash\n",
    "alias awsedld=\"mkdir -p ~/.aws && touch ~/.aws/credentials && mv ~/.aws/credentials ~/.aws/credentials.bak && bash ~/.local/bin/awsedl ~/.aws/credentials.bak | sed '/^$/d' > ~/.aws/credentials && grep edl ~/.aws/credentials -A 6 | grep expiration\"\n",
    "```\n",
    "\n",
    "**Call the alias any time you need to refresh your EDL credentials (i.e. every hour).**\n",
    "\n",
    "## Download\n",
    "\n",
    "**For example, here's how you would download ECCO datasets into the current directory using your new `edl` credential:**\n",
    "\n",
    "```bash\n",
    "aws --profile edl s3 cp s3://podaac-ops-cumulus-protected/ECCO_L4_SSH_05DEG_MONTHLY_V4R4/ . --recursive --dryrun\n",
    "```\n",
    "\n",
    "**Remove `--dryrun` to download.**"
   ]
  }
 ],
 "metadata": {
  "kernelspec": {
   "display_name": "Python 3 (ipykernel)",
   "language": "python",
   "name": "python3"
  },
  "language_info": {
   "codemirror_mode": {
    "name": "ipython",
    "version": 3
   },
   "file_extension": ".py",
   "mimetype": "text/x-python",
   "name": "python",
   "nbconvert_exporter": "python",
   "pygments_lexer": "ipython3",
   "version": "3.9.13"
  }
 },
 "nbformat": 4,
 "nbformat_minor": 5
}
